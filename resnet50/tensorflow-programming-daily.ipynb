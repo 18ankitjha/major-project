{
 "cells": [
  {
   "cell_type": "markdown",
   "metadata": {},
   "source": [
    "# Introduction\n",
    "\n",
    "At the end of this lesson, you will be able to write TensorFlow and Keras code to use one of the best models in computer vision.\n",
    "\n",
    "# Lesson\n"
   ]
  },
  {
   "cell_type": "markdown",
   "metadata": {},
   "source": [
    "# Sample Code\n",
    "\n",
    "### Choose Images to Work With"
   ]
  },
  {
   "cell_type": "code",
   "execution_count": 18,
   "metadata": {
    "tags": []
   },
   "outputs": [],
   "source": [
    "from os.path import join\n",
    "\n",
    "image_dir = 'input/malware-identification/train/'\n",
    "\n",
    "img_paths = [join(image_dir, filename) for filename in \n",
    "                           ['x86__64__lsb__unix-system-v__clang-3.8.0__O0__no-obf__unstripped__BASHLITE-1.0__client.jpg',\n",
    "                            'x86__64__lsb__unix-system-v__clang-3.8.0__O0__no-obf__unstripped__BASHLITE-1.0__server.jpg',\n",
    "                            'x86__64__lsb__unix-system-v__clang-3.8.0__O0__no-obf__unstripped__BASHLITE-lizkebab__client.jpg',\n",
    "                            'x86__64__lsb__unix-system-v__clang-3.8.0__O0__no-obf__unstripped__BASHLITE-lizkebab__server.jpg']]"
   ]
  },
  {
   "cell_type": "markdown",
   "metadata": {},
   "source": [
    "### Function to Read and Prep Images for Modeling"
   ]
  },
  {
   "cell_type": "code",
   "execution_count": 19,
   "metadata": {
    "tags": []
   },
   "outputs": [],
   "source": [
    "import numpy as np\n",
    "from tensorflow.keras.applications.resnet50 import preprocess_input\n",
    "from tensorflow.keras.preprocessing.image import load_img, img_to_array\n",
    "\n",
    "image_size = 224\n",
    "\n",
    "# def read_and_prep_images(img_paths, img_height=image_size, img_width=image_size):\n",
    "#     imgs = [load_img(img_path, target_size=(img_height, img_width)) for img_path in img_paths]\n",
    "#     img_array = np.array([img_to_array(img) for img in imgs])\n",
    "#     output = preprocess_input(img_array)\n",
    "#     return(output)"
   ]
  },
  {
   "cell_type": "code",
   "execution_count": 20,
   "metadata": {},
   "outputs": [
    {
     "name": "stdout",
     "output_type": "stream",
     "text": [
      "2.12.0\n"
     ]
    }
   ],
   "source": [
    "import tensorflow as tf\n",
    "print(tf.__version__)\n"
   ]
  },
  {
   "cell_type": "markdown",
   "metadata": {},
   "source": [
    "### Create Model with Pre-Trained Weights File. Make Predictions"
   ]
  },
  {
   "cell_type": "code",
   "execution_count": 21,
   "metadata": {
    "tags": []
   },
   "outputs": [
    {
     "name": "stdout",
     "output_type": "stream",
     "text": [
      "1/1 [==============================] - 3s 3s/step\n"
     ]
    }
   ],
   "source": [
    "import tensorflow as tf\n",
    "from tensorflow.keras.applications import ResNet50\n",
    "from tensorflow.keras.applications.resnet import preprocess_input\n",
    "from tensorflow.keras.preprocessing.image import load_img, img_to_array\n",
    "\n",
    "# Load the ResNet50 model with pre-trained weights\n",
    "my_model = ResNet50(weights='imagenet', include_top=True)\n",
    "def read_and_prep_images(img_paths):\n",
    "    # Initialize an empty list to store preprocessed images\n",
    "    preprocessed_images = []\n",
    "    \n",
    "    for img_path in img_paths:\n",
    "        # Load and preprocess each image\n",
    "        img = load_img(img_path, target_size=(224, 224))  # ResNet50 expects 224x224 input size\n",
    "        img = img_to_array(img)\n",
    "        img = preprocess_input(img)  # Apply ResNet50-specific preprocessing\n",
    "        \n",
    "        preprocessed_images.append(img)\n",
    "    \n",
    "    return tf.convert_to_tensor(preprocessed_images)\n",
    "\n",
    "\n",
    "\n",
    "\n",
    "test_data = read_and_prep_images(img_paths)\n",
    "preds = my_model.predict(test_data)"
   ]
  },
  {
   "cell_type": "markdown",
   "metadata": {},
   "source": [
    "### Visualize Predictions"
   ]
  },
  {
   "cell_type": "code",
   "execution_count": 22,
   "metadata": {},
   "outputs": [],
   "source": [
    "import json\n",
    "\n",
    "def decode_predictions(preds, top=5, class_list_path='../input/resnet50/imagenet_class_index.json'):\n",
    "  \"\"\"Decodes the prediction of an ImageNet model.\n",
    "  Arguments:\n",
    "      preds: Numpy tensor encoding a batch of predictions.\n",
    "      top: integer, how many top-guesses to return.\n",
    "      class_list_path: Path to the canonical imagenet_class_index.json file\n",
    "  Returns:\n",
    "      A list of lists of top class prediction tuples\n",
    "      `(class_name, class_description, score)`.\n",
    "      One list of tuples per sample in batch input.\n",
    "  Raises:\n",
    "      ValueError: in case of invalid shape of the `pred` array\n",
    "          (must be 2D).\n",
    "  \"\"\"\n",
    "  if len(preds.shape) != 2 or preds.shape[1] != 1000:\n",
    "    raise ValueError('`decode_predictions` expects '\n",
    "                     'a batch of predictions '\n",
    "                     '(i.e. a 2D array of shape (samples, 1000)). '\n",
    "                     'Found array with shape: ' + str(preds.shape))\n",
    "  CLASS_INDEX = json.load(open(class_list_path))\n",
    "  results = []\n",
    "  for pred in preds:\n",
    "    top_indices = pred.argsort()[-top:][::-1]\n",
    "    result = [tuple(CLASS_INDEX[str(i)]) + (pred[i],) for i in top_indices]\n",
    "    result.sort(key=lambda x: x[2], reverse=True)\n",
    "    results.append(result)\n",
    "  return results"
   ]
  },
  {
   "cell_type": "code",
   "execution_count": 23,
   "metadata": {},
   "outputs": [
    {
     "data": {
      "image/jpeg": "[encoded data removed]",
      "text/plain": [
       "<IPython.core.display.Image object>"
      ]
     },
     "metadata": {},
     "output_type": "display_data"
    },
    {
     "name": "stdout",
     "output_type": "stream",
     "text": [
      "[('n06785654', 'crossword_puzzle', 0.89318836), ('n03733281', 'maze', 0.021550827), ('n03196217', 'digital_clock', 0.015879782)]\n"
     ]
    },
    {
     "data": {
      "image/jpeg": "[encoded data removed]",
      "text/plain": [
       "<IPython.core.display.Image object>"
      ]
     },
     "metadata": {},
     "output_type": "display_data"
    },
    {
     "name": "stdout",
     "output_type": "stream",
     "text": [
      "[('n06785654', 'crossword_puzzle', 0.93172127), ('n03197337', 'digital_watch', 0.017340586), ('n04149813', 'scoreboard', 0.00970967)]\n"
     ]
    },
    {
     "data": {
      "image/jpeg": "[encoded data removed]",
      "text/plain": [
       "<IPython.core.display.Image object>"
      ]
     },
     "metadata": {},
     "output_type": "display_data"
    },
    {
     "name": "stdout",
     "output_type": "stream",
     "text": [
      "[('n06785654', 'crossword_puzzle', 0.9514491), ('n03733281', 'maze', 0.010306943), ('n03197337', 'digital_watch', 0.008671506)]\n"
     ]
    },
    {
     "data": {
      "image/jpeg": "[encoded data removed]",
      "text/plain": [
       "<IPython.core.display.Image object>"
      ]
     },
     "metadata": {},
     "output_type": "display_data"
    },
    {
     "name": "stdout",
     "output_type": "stream",
     "text": [
      "[('n06785654', 'crossword_puzzle', 0.83726203), ('n03197337', 'digital_watch', 0.050591014), ('n03196217', 'digital_clock', 0.027419955)]\n"
     ]
    }
   ],
   "source": [
    "# from learntools.deep_learning.decode_predictions import decode_predictions\n",
    "from IPython.display import Image, display\n",
    "\n",
    "most_likely_labels = decode_predictions(preds, top=3, class_list_path='input/resnet50/imagenet_class_index.json')\n",
    "\n",
    "for i, img_path in enumerate(img_paths):\n",
    "    display(Image(img_path))\n",
    "    print(most_likely_labels[i])"
   ]
  },
  {
   "cell_type": "code",
   "execution_count": 15,
   "metadata": {},
   "outputs": [
    {
     "ename": "ModuleNotFoundError",
     "evalue": "No module named 'learntools.deep_learning'",
     "output_type": "error",
     "traceback": [
      "\u001b[1;31m---------------------------------------------------------------------------\u001b[0m",
      "\u001b[1;31mModuleNotFoundError\u001b[0m                       Traceback (most recent call last)",
      "\u001b[1;32m~\\AppData\\Local\\Temp\\ipykernel_9984\\1532043245.py\u001b[0m in \u001b[0;36m<module>\u001b[1;34m\u001b[0m\n\u001b[1;32m----> 1\u001b[1;33m \u001b[1;32mfrom\u001b[0m \u001b[0mlearntools\u001b[0m\u001b[1;33m.\u001b[0m\u001b[0mdeep_learning\u001b[0m \u001b[1;32mimport\u001b[0m \u001b[0mmy_module\u001b[0m\u001b[1;33m\u001b[0m\u001b[1;33m\u001b[0m\u001b[0m\n\u001b[0m",
      "\u001b[1;31mModuleNotFoundError\u001b[0m: No module named 'learntools.deep_learning'"
     ]
    }
   ],
   "source": [
    "from learntools.deep_learning import my_module\n"
   ]
  },
  {
   "cell_type": "markdown",
   "metadata": {},
   "source": [
    "# Exercise\n",
    "Now you are ready to **[use a powerful TensorFlow model](https://www.kaggle.com/kernels/fork/3349935)** yourself."
   ]
  }
 ],
 "metadata": {
  "kernelspec": {
   "display_name": "Python 3 (ipykernel)",
   "language": "python",
   "name": "python3"
  },
  "language_info": {
   "codemirror_mode": {
    "name": "ipython",
    "version": 3
   },
   "file_extension": ".py",
   "mimetype": "text/x-python",
   "name": "python",
   "nbconvert_exporter": "python",
   "pygments_lexer": "ipython3",
   "version": "3.9.13"
  }
 },
 "nbformat": 4,
 "nbformat_minor": 4
}
